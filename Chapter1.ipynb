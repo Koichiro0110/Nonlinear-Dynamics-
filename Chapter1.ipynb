{
 "cells": [
  {
   "cell_type": "code",
   "execution_count": 1,
   "id": "7c2225fd",
   "metadata": {},
   "outputs": [],
   "source": [
    "import numpy as np\n",
    "import matplotlib.pyplot as plt\n",
    "%matplotlib inline\n",
    "\n",
    "import scienceplots\n",
    "plt.style.use('science')"
   ]
  },
  {
   "cell_type": "code",
   "execution_count": 2,
   "id": "b02a4b56",
   "metadata": {},
   "outputs": [],
   "source": [
    "def Logistic(x, r):\n",
    "    return r*x*(1- x)"
   ]
  },
  {
   "cell_type": "code",
   "execution_count": 3,
   "id": "953437ca",
   "metadata": {},
   "outputs": [],
   "source": [
    "n = 500 #Number of iteration"
   ]
  },
  {
   "cell_type": "code",
   "execution_count": 4,
   "id": "5f87fcf4",
   "metadata": {},
   "outputs": [],
   "source": [
    "x = [0.2]\n",
    "r = 2\n",
    "\n",
    "for i in range(n):\n",
    "    a =  Logistic(x[i], r)\n",
    "    x.append(a)\n",
    "    \n",
    "x = np.array(x)\n",
    "\n",
    "x_hat = [0.200001]\n",
    "r = 2\n",
    "\n",
    "for i in range(n):\n",
    "    a =  Logistic(x_hat[i], r)\n",
    "    x_hat.append(a)\n",
    "    \n",
    "x_hat = np.array(x_hat)"
   ]
  },
  {
   "cell_type": "code",
   "execution_count": 5,
   "id": "1d43ca36",
   "metadata": {},
   "outputs": [],
   "source": [
    "y = [0.2]\n",
    "r = 3.4\n",
    "\n",
    "for i in range(n):\n",
    "    a =  Logistic(y[i], r)\n",
    "    y.append(a)\n",
    "    \n",
    "y = np.array(y)\n",
    "\n",
    "y_hat = [0.200001]\n",
    "r = 3.4\n",
    "\n",
    "for i in range(n):\n",
    "    a =  Logistic(y_hat[i], r)\n",
    "    y_hat.append(a)\n",
    "    \n",
    "y_hat = np.array(y_hat)"
   ]
  },
  {
   "cell_type": "code",
   "execution_count": 6,
   "id": "bf7f2dba",
   "metadata": {},
   "outputs": [],
   "source": [
    "z = [0.2]\n",
    "r = 3.72\n",
    "\n",
    "for i in range(n):\n",
    "    a =  Logistic(z[i], r)\n",
    "    z.append(a)\n",
    "    \n",
    "z = np.array(z)\n",
    "\n",
    "z_hat = [0.200001]\n",
    "r = 3.72\n",
    "\n",
    "for i in range(n):\n",
    "    a =  Logistic(z_hat[i], r)\n",
    "    z_hat.append(a)\n",
    "    \n",
    "z_hat = np.array(z_hat)"
   ]
  },
  {
   "cell_type": "code",
   "execution_count": 7,
   "id": "95c07e41",
   "metadata": {},
   "outputs": [],
   "source": [
    "index = np.arange(0, n+1, 1)"
   ]
  },
  {
   "cell_type": "code",
   "execution_count": 11,
   "id": "2cbe92b0",
   "metadata": {},
   "outputs": [
    {
     "data": {
      "text/plain": [
       "<matplotlib.legend.Legend at 0x7fc62875fa00>"
      ]
     },
     "execution_count": 11,
     "metadata": {},
     "output_type": "execute_result"
    },
    {
     "data": {
      "image/png": "[encoded data removed]",
      "text/plain": [
       "<Figure size 700x500 with 1 Axes>"
      ]
     },
     "metadata": {},
     "output_type": "display_data"
    }
   ],
   "source": [
    "\n",
    "fig = plt.figure(figsize=(7,5))\n",
    "ax = fig.gca()\n",
    "\n",
    "#ax.plot(index, x, 'o', markersize = 3, label=r\"$x$\")\n",
    "#ax.plot(index, x_hat, 'o', alpha = 0.3, markersize = 5, label=r\"$ \\hat{x}$\")\n",
    "\n",
    "ax.plot(index, np.abs(x - x_hat), 'o', markersize = 2, label=\"r = 2\")\n",
    "ax.plot(index, np.abs(y - y_hat), 'o', markersize = 2, label=\"r = 3.4\")\n",
    "#ax.plot(index, np.abs(z - z_hat), 'o', markersize = 2, label=\"r = 3.72\")\n",
    "\n",
    "# Set the axes\n",
    "ax.set_xlabel(\"$n$\", fontsize = 20)\n",
    "ax.set_ylabel(r\"$ | x - \\hat{x} |$\", fontsize = 20)\n",
    "ax.legend(fontsize = 10)"
   ]
  },
  {
   "cell_type": "code",
   "execution_count": 12,
   "id": "85e83166",
   "metadata": {},
   "outputs": [
    {
     "data": {
      "text/plain": [
       "0.0"
      ]
     },
     "execution_count": 12,
     "metadata": {},
     "output_type": "execute_result"
    }
   ],
   "source": [
    "k = np.abs(y - y_hat)\n",
    "k[-1]"
   ]
  },
  {
   "cell_type": "code",
   "execution_count": 14,
   "id": "1866d18a",
   "metadata": {},
   "outputs": [
    {
     "data": {
      "text/plain": [
       "0.24317557314956695"
      ]
     },
     "execution_count": 14,
     "metadata": {},
     "output_type": "execute_result"
    }
   ],
   "source": [
    "l = np.sum(np.abs(z - z_hat))/len(z - z_hat)\n",
    "l"
   ]
  }
 ],
 "metadata": {
  "kernelspec": {
   "display_name": "Python 3",
   "language": "python",
   "name": "python3"
  },
  "language_info": {
   "codemirror_mode": {
    "name": "ipython",
    "version": 3
   },
   "file_extension": ".py",
   "mimetype": "text/x-python",
   "name": "python",
   "nbconvert_exporter": "python",
   "pygments_lexer": "ipython3",
   "version": "3.8.19"
  }
 },
 "nbformat": 4,
 "nbformat_minor": 5
}
